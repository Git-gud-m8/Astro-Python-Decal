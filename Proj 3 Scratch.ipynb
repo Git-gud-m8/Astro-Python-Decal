{
 "cells": [
  {
   "cell_type": "code",
   "execution_count": null,
   "metadata": {},
   "outputs": [],
   "source": [
    "#upload a seperate file with all the unit tests and integration test\n",
    "##due Friday at 5"
   ]
  },
  {
   "cell_type": "code",
   "execution_count": null,
   "metadata": {},
   "outputs": [],
   "source": [
    "import random"
   ]
  },
  {
   "cell_type": "code",
   "execution_count": null,
   "metadata": {},
   "outputs": [],
   "source": [
    "LENGTH_OF_CODE = 4\n",
    "\n",
    "ALLOWED_CHARACTERS = ['1', '2', '3', '4']"
   ]
  },
  {
   "cell_type": "code",
   "execution_count": 39,
   "metadata": {},
   "outputs": [],
   "source": [
    "#works\n",
    "def generate_code():\n",
    "    \"\"\"Returns secret code, which is a randomly generated four-element list of numbers between 1-4.\n",
    "    \n",
    "    \"\"\"\n",
    "    nums = [] \n",
    "    for i in range(LENGTH_OF_CODE):\n",
    "        p =int(random.choice(ALLOWED_CHARACTERS)[:LENGTH_OF_CODE])\n",
    "        nums.append((p))\n",
    "    print((nums))"
   ]
  },
  {
   "cell_type": "code",
   "execution_count": 40,
   "metadata": {},
   "outputs": [
    {
     "name": "stdout",
     "output_type": "stream",
     "text": [
      "[2, 2, 1, 4]\n"
     ]
    }
   ],
   "source": [
    "generate_code()"
   ]
  },
  {
   "cell_type": "code",
   "execution_count": 41,
   "metadata": {},
   "outputs": [],
   "source": [
    "#works\n",
    "def wrong_code_length(code_breaker_attempt):\n",
    "    \"\"\"Returns True if the length of the code_breaker_attempt is not the allowed length set LENGTH_OF_CODE.\n",
    "    Input: code_breaker_attempt - a list of any length\n",
    "    Outputs: Boolean value to tell you whether of not the list is the right length for the game\n",
    "    \"\"\"\n",
    "    if len(code_breaker_attempt) == LENGTH_OF_CODE:\n",
    "        return False\n",
    "    else:\n",
    "        return True"
   ]
  },
  {
   "cell_type": "code",
   "execution_count": 42,
   "metadata": {},
   "outputs": [
    {
     "data": {
      "text/plain": [
       "False"
      ]
     },
     "execution_count": 42,
     "metadata": {},
     "output_type": "execute_result"
    }
   ],
   "source": [
    "wrong_code_length(['1', '2', '4', '3'])"
   ]
  },
  {
   "cell_type": "code",
   "execution_count": 43,
   "metadata": {},
   "outputs": [
    {
     "data": {
      "text/plain": [
       "True"
      ]
     },
     "execution_count": 43,
     "metadata": {},
     "output_type": "execute_result"
    }
   ],
   "source": [
    "wrong_code_length(['1', '2', '4', '5', '5'])"
   ]
  },
  {
   "cell_type": "markdown",
   "metadata": {},
   "source": [
    "Unit Test 1"
   ]
  },
  {
   "cell_type": "code",
   "execution_count": 44,
   "metadata": {},
   "outputs": [
    {
     "name": "stderr",
     "output_type": "stream",
     "text": [
      "test_get_code_breaker_attempt (__main__.TestAttempt) ... ok\n",
      "test_wrong_characters (__main__.TestCharacters) ... ok\n",
      "test_wrong_code_length (__main__.TestLength) ... "
     ]
    },
    {
     "name": "stdout",
     "output_type": "stream",
     "text": [
      "[1, 4, 2, 2]\n",
      "[3, 4, 4, 3]\n"
     ]
    },
    {
     "name": "stderr",
     "output_type": "stream",
     "text": [
      "ok\n",
      "\n",
      "----------------------------------------------------------------------\n",
      "Ran 3 tests in 0.004s\n",
      "\n",
      "OK\n"
     ]
    },
    {
     "data": {
      "text/plain": [
       "<unittest.main.TestProgram at 0x7f68a406f780>"
      ]
     },
     "execution_count": 44,
     "metadata": {},
     "output_type": "execute_result"
    }
   ],
   "source": [
    "#works\n",
    "import unittest\n",
    "\n",
    "class TestLength(unittest.TestCase):\n",
    "    \n",
    "    def test_wrong_code_length(self):\n",
    "        self.assertEqual(wrong_code_length(['1', '2', '4', '3']), False)\n",
    "        self.assertEqual(wrong_code_length(['1', '2', '4', '5', '4']), True)\n",
    "        self.assertEqual(wrong_code_length(['1', '2']), True)\n",
    "        \n",
    "\n",
    "        \n",
    "\n",
    "        \n",
    "unittest.main(argv=[''], verbosity=2, exit=False) # magic line that runs all your unit tests"
   ]
  },
  {
   "cell_type": "code",
   "execution_count": 45,
   "metadata": {},
   "outputs": [],
   "source": [
    "#works\n",
    "def wrong_characters(code_breaker_attempt):\n",
    "    \"\"\"Returns True if code_breaker_attempt contains characters that are not allowed,\n",
    "    which is set by ALLOWED_CHARACTERS.\n",
    "    \n",
    "    Input: code_breaker_attempt - a list of any length\n",
    "    Outputs: Boolean value to tell you whether of not the list contains the right characters for the game\n",
    "    \"\"\"\n",
    "    for i in code_breaker_attempt:\n",
    "        if i not in ALLOWED_CHARACTERS:\n",
    "            return True\n",
    "    return False\n"
   ]
  },
  {
   "cell_type": "code",
   "execution_count": 46,
   "metadata": {},
   "outputs": [
    {
     "data": {
      "text/plain": [
       "False"
      ]
     },
     "execution_count": 46,
     "metadata": {},
     "output_type": "execute_result"
    }
   ],
   "source": [
    "wrong_characters(['1', '2', '4', '3'])"
   ]
  },
  {
   "cell_type": "code",
   "execution_count": 47,
   "metadata": {},
   "outputs": [
    {
     "data": {
      "text/plain": [
       "True"
      ]
     },
     "execution_count": 47,
     "metadata": {},
     "output_type": "execute_result"
    }
   ],
   "source": [
    "wrong_characters(['b', 'e', 'e', 'p'])"
   ]
  },
  {
   "cell_type": "code",
   "execution_count": 48,
   "metadata": {},
   "outputs": [
    {
     "data": {
      "text/plain": [
       "True"
      ]
     },
     "execution_count": 48,
     "metadata": {},
     "output_type": "execute_result"
    }
   ],
   "source": [
    "wrong_characters(['m', 'a', 'r', 's'])"
   ]
  },
  {
   "cell_type": "code",
   "execution_count": 49,
   "metadata": {},
   "outputs": [
    {
     "data": {
      "text/plain": [
       "True"
      ]
     },
     "execution_count": 49,
     "metadata": {},
     "output_type": "execute_result"
    }
   ],
   "source": [
    "wrong_characters(['1','a', 'b', 'c'])"
   ]
  },
  {
   "cell_type": "markdown",
   "metadata": {},
   "source": [
    "Unit Test 2"
   ]
  },
  {
   "cell_type": "code",
   "execution_count": 50,
   "metadata": {},
   "outputs": [
    {
     "name": "stderr",
     "output_type": "stream",
     "text": [
      "test_get_code_breaker_attempt (__main__.TestAttempt) ... ok\n",
      "test_wrong_characters (__main__.TestCharacters) ... ok\n",
      "test_wrong_code_length (__main__.TestLength) ... "
     ]
    },
    {
     "name": "stdout",
     "output_type": "stream",
     "text": [
      "[1, 3, 4, 2]\n",
      "[3, 4, 3, 4]\n"
     ]
    },
    {
     "name": "stderr",
     "output_type": "stream",
     "text": [
      "ok\n",
      "\n",
      "----------------------------------------------------------------------\n",
      "Ran 3 tests in 0.005s\n",
      "\n",
      "OK\n"
     ]
    },
    {
     "data": {
      "text/plain": [
       "<unittest.main.TestProgram at 0x7f689dfbeda0>"
      ]
     },
     "execution_count": 50,
     "metadata": {},
     "output_type": "execute_result"
    }
   ],
   "source": [
    "#works\n",
    "import unittest\n",
    "\n",
    "class TestCharacters(unittest.TestCase):\n",
    "    \n",
    "    def test_wrong_characters(self):\n",
    "        self.assertEqual(wrong_characters(['1', '2', '4', '3']), False)\n",
    "        self.assertEqual(wrong_characters(['b', 'e', 'e', 'p']), True)\n",
    "        self.assertEqual(wrong_characters(['1','a', 'b', 'c']), True)\n",
    "        \n",
    "\n",
    "        \n",
    "\n",
    "        \n",
    "unittest.main(argv=[''], verbosity=2, exit=False) # magic line that runs all your unit tests"
   ]
  },
  {
   "cell_type": "code",
   "execution_count": 51,
   "metadata": {},
   "outputs": [],
   "source": [
    "#works\n",
    "def get_code_breaker_attempt():\n",
    "    \"\"\"The code breaker attempts to guess the secret code. This functions returns that attempt as a four-element list. This function also checks to make sure if the\n",
    "    attempt is valid (the right length and using valid letters). If not, then it continues to ask for a valid answer until one is given.\"\"\"\n",
    "    #first step generates a code for the player of the right length and using valid characters\n",
    "    code_breaker_attempt = []\n",
    "    for i in range(LENGTH_OF_CODE):\n",
    "        p =int(random.choice(ALLOWED_CHARACTERS)[:LENGTH_OF_CODE])\n",
    "        code_breaker_attempt.append((p))\n",
    "\n",
    "    \n",
    "    #second step compares the player code to the game's code and returns the value when matching\n",
    "    #trying to not make random code what we want\n",
    "    while code_breaker_attempt == generate_code():\n",
    "        return code_breaker_attempt \n"
   ]
  },
  {
   "cell_type": "code",
   "execution_count": 52,
   "metadata": {},
   "outputs": [
    {
     "name": "stdout",
     "output_type": "stream",
     "text": [
      "[4, 1, 1, 1]\n"
     ]
    }
   ],
   "source": [
    "get_code_breaker_attempt()"
   ]
  },
  {
   "cell_type": "code",
   "execution_count": 53,
   "metadata": {},
   "outputs": [
    {
     "name": "stderr",
     "output_type": "stream",
     "text": [
      "test_get_code_breaker_attempt (__main__.TestAttempt) ... ok\n",
      "test_wrong_characters (__main__.TestCharacters) ... ok\n",
      "test_wrong_code_length (__main__.TestLength) ... "
     ]
    },
    {
     "name": "stdout",
     "output_type": "stream",
     "text": [
      "[1, 3, 2, 4]\n",
      "[4, 2, 3, 3]\n"
     ]
    },
    {
     "name": "stderr",
     "output_type": "stream",
     "text": [
      "ok\n",
      "\n",
      "----------------------------------------------------------------------\n",
      "Ran 3 tests in 0.003s\n",
      "\n",
      "OK\n"
     ]
    },
    {
     "data": {
      "text/plain": [
       "<unittest.main.TestProgram at 0x7f689dfbef60>"
      ]
     },
     "execution_count": 53,
     "metadata": {},
     "output_type": "execute_result"
    }
   ],
   "source": [
    "#works\n",
    "import unittest\n",
    "\n",
    "class TestAttempt(unittest.TestCase):\n",
    "    \n",
    "    def test_get_code_breaker_attempt(self):\n",
    "        self.assertEqual(get_code_breaker_attempt(), generate_code())\n",
    "\n",
    "        \n",
    "\n",
    "        \n",
    "\n",
    "        \n",
    "unittest.main(argv=[''], verbosity=2, exit=False) # magic line that runs all your unit tests"
   ]
  },
  {
   "cell_type": "code",
   "execution_count": 54,
   "metadata": {},
   "outputs": [],
   "source": [
    "#logic of this works more for check_order because it compares whether elements are in the right spot\n",
    "def check_numbers(code, code_breaker_attempt):\n",
    "    \"\"\" Checks if digits guessed by the code breaker exist in the secret code. Returns the number of correct digits.\"\"\"\n",
    "    result = False\n",
    "    \n",
    "    for i in code:  \n",
    "        for j in code_breaker_attempt:  \n",
    "            if i == j: \n",
    "                result = True\n",
    "            return result"
   ]
  },
  {
   "cell_type": "code",
   "execution_count": 55,
   "metadata": {},
   "outputs": [
    {
     "data": {
      "text/plain": [
       "True"
      ]
     },
     "execution_count": 55,
     "metadata": {},
     "output_type": "execute_result"
    }
   ],
   "source": [
    "check_numbers(['1', '1', '2', '4'], ['1', '1', '2', '4'])"
   ]
  },
  {
   "cell_type": "code",
   "execution_count": 56,
   "metadata": {},
   "outputs": [
    {
     "data": {
      "text/plain": [
       "False"
      ]
     },
     "execution_count": 56,
     "metadata": {},
     "output_type": "execute_result"
    }
   ],
   "source": [
    "check_numbers(['1', '1', '2', '4'], ['2', '1', '3', '4'])"
   ]
  },
  {
   "cell_type": "code",
   "execution_count": 57,
   "metadata": {},
   "outputs": [],
   "source": [
    "#works\n",
    "def check_numbers(code, code_breaker_attempt):\n",
    "    \"\"\" Checks if colors guessed by the code breaker exist in the secret code. Returns the number of correct colors.\n",
    "    \n",
    "    Input: 2 lists, one of the mastermind code and one of the player attempt\n",
    "    Output: number of correct colors\n",
    "    \"\"\"\n",
    "    matches = code[:]\n",
    "    for i in code_breaker_attempt:\n",
    "        if matches.count(i) != 0:\n",
    "            matches.remove(i)\n",
    "    return LENGTH_OF_CODE-len(matches)"
   ]
  },
  {
   "cell_type": "code",
   "execution_count": 58,
   "metadata": {},
   "outputs": [
    {
     "data": {
      "text/plain": [
       "4"
      ]
     },
     "execution_count": 58,
     "metadata": {},
     "output_type": "execute_result"
    }
   ],
   "source": [
    "check_numbers(['1', '1', '2', '4'], ['1', '1', '2', '4'])"
   ]
  },
  {
   "cell_type": "code",
   "execution_count": 59,
   "metadata": {},
   "outputs": [
    {
     "data": {
      "text/plain": [
       "3"
      ]
     },
     "execution_count": 59,
     "metadata": {},
     "output_type": "execute_result"
    }
   ],
   "source": [
    "check_numbers(['1', '1', '2', '4'], ['2', '1', '3', '4'])"
   ]
  },
  {
   "cell_type": "code",
   "execution_count": 60,
   "metadata": {},
   "outputs": [
    {
     "data": {
      "text/plain": [
       "1"
      ]
     },
     "execution_count": 60,
     "metadata": {},
     "output_type": "execute_result"
    }
   ],
   "source": [
    "check_numbers(['2', '1', '2', '1'], ['3', '1', '4', '3'])"
   ]
  },
  {
   "cell_type": "code",
   "execution_count": 61,
   "metadata": {},
   "outputs": [],
   "source": [
    "#tells the number in the spot that matches \n",
    "def check_order(code, code_breaker_attempt):\n",
    "    \"\"\" Checks if numbers are in the same position as the corresponding number in the code. \n",
    "        Returns the number of colors in the correct position.\"\"\"\n",
    "    result = False\n",
    "    \n",
    "    for i in code:  \n",
    "        for j in code_breaker_attempt:  \n",
    "            if i == j: \n",
    "                result = True \n",
    "            return result"
   ]
  },
  {
   "cell_type": "code",
   "execution_count": 62,
   "metadata": {},
   "outputs": [
    {
     "data": {
      "text/plain": [
       "True"
      ]
     },
     "execution_count": 62,
     "metadata": {},
     "output_type": "execute_result"
    }
   ],
   "source": [
    "check_order(['1', '1', '2', '4'], ['1', '1', '2', '4'])"
   ]
  },
  {
   "cell_type": "code",
   "execution_count": 63,
   "metadata": {},
   "outputs": [
    {
     "data": {
      "text/plain": [
       "False"
      ]
     },
     "execution_count": 63,
     "metadata": {},
     "output_type": "execute_result"
    }
   ],
   "source": [
    "check_order(['1', '1', '2', '4'], ['2', '1', '3', '4'])"
   ]
  },
  {
   "cell_type": "code",
   "execution_count": 64,
   "metadata": {},
   "outputs": [],
   "source": [
    "#real check numbers\n",
    "##close to the right thing, but doubles on the same number, need to exclude this case\n",
    "##gives which number matches and \n",
    "def check_order(code, code_breaker_attempt):\n",
    "    \"\"\" Checks if colors guessed by the code breaker exist in the secret code. Returns the number of correct colors.\n",
    "    \n",
    "    Input: 2 lists, one of the mastermind code and one of the player attempt\n",
    "    Output: number of correct colors\n",
    "    \"\"\"\n",
    "    result = []\n",
    "    \n",
    "    \n",
    "    for j in code_breaker_attempt:\n",
    "        for i in code:\n",
    "            if i == j: \n",
    "                result.append(j)\n",
    "                \n",
    "    return result"
   ]
  },
  {
   "cell_type": "code",
   "execution_count": 65,
   "metadata": {},
   "outputs": [
    {
     "data": {
      "text/plain": [
       "['1', '1', '1', '1', '2', '4']"
      ]
     },
     "execution_count": 65,
     "metadata": {},
     "output_type": "execute_result"
    }
   ],
   "source": [
    "check_order(['1', '1', '2', '4'], ['1', '1', '2', '4'])"
   ]
  },
  {
   "cell_type": "code",
   "execution_count": 66,
   "metadata": {},
   "outputs": [
    {
     "data": {
      "text/plain": [
       "['2', '1', '1', '4']"
      ]
     },
     "execution_count": 66,
     "metadata": {},
     "output_type": "execute_result"
    }
   ],
   "source": [
    "check_order(['1', '1', '2', '4'], ['2', '1', '3', '4'])"
   ]
  },
  {
   "cell_type": "code",
   "execution_count": 67,
   "metadata": {},
   "outputs": [
    {
     "data": {
      "text/plain": [
       "['1', '1']"
      ]
     },
     "execution_count": 67,
     "metadata": {},
     "output_type": "execute_result"
    }
   ],
   "source": [
    "check_order(['2', '1', '2', '1'], ['3', '1', '4', '3'])"
   ]
  },
  {
   "cell_type": "code",
   "execution_count": null,
   "metadata": {},
   "outputs": [],
   "source": [
    "#double counts here\n",
    "def check_order(code, code_breaker_attempt):\n",
    "    \"\"\"  Checks if numbers are in the same position as the corresponding number in the code. \n",
    "        Returns the number of colors in the correct position.\n",
    "        \n",
    "        Input: 2 lists, one of the mastermind code (code) and one of the player attempt (code_breaker_attempt)\n",
    "        Output: number of correct colors\n",
    "    \"\"\"  \n",
    "    matches = 0\n",
    "    for i in code_breaker_attempt:\n",
    "        for j in code:\n",
    "            if i == j:\n",
    "                matches+=1\n",
    "    return matches"
   ]
  },
  {
   "cell_type": "code",
   "execution_count": null,
   "metadata": {},
   "outputs": [],
   "source": [
    "check_order(['1', '1', '2', '4'], ['1', '1', '2', '4'])"
   ]
  },
  {
   "cell_type": "code",
   "execution_count": null,
   "metadata": {},
   "outputs": [],
   "source": [
    "check_order(['1', '1', '2', '4'], ['2', '1', '3', '4'])"
   ]
  },
  {
   "cell_type": "code",
   "execution_count": null,
   "metadata": {},
   "outputs": [],
   "source": [
    "check_order(['2', '1', '2', '1'], ['3', '1', '4', '3'])"
   ]
  },
  {
   "cell_type": "code",
   "execution_count": 72,
   "metadata": {},
   "outputs": [
    {
     "name": "stderr",
     "output_type": "stream",
     "text": [
      "test_get_code_breaker_attempt (__main__.TestAttempt) ... ok\n",
      "test_wrong_characters (__main__.TestCharacters) ... ok\n",
      "test_wrong_code_length (__main__.TestLength) ... ok\n",
      "test_check_order (__main__.TestOrder) ... "
     ]
    },
    {
     "name": "stdout",
     "output_type": "stream",
     "text": [
      "[4, 4, 2, 2]\n",
      "[3, 4, 4, 3]\n"
     ]
    },
    {
     "name": "stderr",
     "output_type": "stream",
     "text": [
      "FAIL\n",
      "\n",
      "======================================================================\n",
      "FAIL: test_check_order (__main__.TestOrder)\n",
      "----------------------------------------------------------------------\n",
      "Traceback (most recent call last):\n",
      "  File \"<ipython-input-72-d2eeab6efdee>\", line 7, in test_check_order\n",
      "    self.assertEqual(check_order(['1', '1', '2', '4'], ['1', '1', '2', '4']), 4)\n",
      "AssertionError: 6 != 4\n",
      "\n",
      "----------------------------------------------------------------------\n",
      "Ran 4 tests in 0.011s\n",
      "\n",
      "FAILED (failures=1)\n"
     ]
    },
    {
     "data": {
      "text/plain": [
       "<unittest.main.TestProgram at 0x7f689dfcfc88>"
      ]
     },
     "execution_count": 72,
     "metadata": {},
     "output_type": "execute_result"
    }
   ],
   "source": [
    "#works\n",
    "import unittest\n",
    "\n",
    "class TestOrder(unittest.TestCase):\n",
    "    \n",
    "    def test_check_order(self):\n",
    "        self.assertEqual(check_order(['1', '1', '2', '4'], ['1', '1', '2', '4']), 4)\n",
    "        self.assertEqual(check_order(['1', '1', '2', '4'], ['2', '1', '3', '4']), 2)\n",
    "        self.assertEqual(check_order(['2', '1', '2', '1'], ['3', '1', '4', '1']), 1)\n",
    "        \n",
    "\n",
    "        \n",
    "\n",
    "        \n",
    "unittest.main(argv=[''], verbosity=2, exit=False) # magic line that runs all your unit tests"
   ]
  },
  {
   "cell_type": "code",
   "execution_count": 76,
   "metadata": {},
   "outputs": [],
   "source": [
    "#works\n",
    "def get_key_pegs(numbers_check, order_check):\n",
    "    \"\"\"\n",
    "    Key pegs returns feedback to code breaker about how much of their code is correct.\n",
    "\n",
    "    Red: Number is in the right position\n",
    "    White: Number is in the wrong position\n",
    "    Empty: Number (or duplicate of number) does not exist in the secret code.\n",
    "    \"\"\"\n",
    "    order_check = check_order(code, code_breaker_attempt)\n",
    "    if order_check > 0:\n",
    "        return 'Red'\n",
    "    numbers_check = check_numbers(code, code_breaker_attempt)\n",
    "    if numbers_check - order_check> 0:\n",
    "        return 'White'\n",
    "     \n",
    "    elif numbers_check == 0:\n",
    "        return 'Empty'"
   ]
  },
  {
   "cell_type": "code",
   "execution_count": 77,
   "metadata": {},
   "outputs": [
    {
     "ename": "NameError",
     "evalue": "name 'code' is not defined",
     "output_type": "error",
     "traceback": [
      "\u001b[0;31m---------------------------------------------------------------------------\u001b[0m",
      "\u001b[0;31mNameError\u001b[0m                                 Traceback (most recent call last)",
      "\u001b[0;32m<ipython-input-77-5825f5417d76>\u001b[0m in \u001b[0;36m<module>\u001b[0;34m\u001b[0m\n\u001b[0;32m----> 1\u001b[0;31m \u001b[0mget_key_pegs\u001b[0m\u001b[0;34m(\u001b[0m\u001b[0mcheck_numbers\u001b[0m\u001b[0;34m(\u001b[0m\u001b[0;34m[\u001b[0m\u001b[0;34m'1'\u001b[0m\u001b[0;34m,\u001b[0m \u001b[0;34m'1'\u001b[0m\u001b[0;34m,\u001b[0m \u001b[0;34m'2'\u001b[0m\u001b[0;34m,\u001b[0m \u001b[0;34m'4'\u001b[0m\u001b[0;34m]\u001b[0m\u001b[0;34m,\u001b[0m \u001b[0;34m[\u001b[0m\u001b[0;34m'1'\u001b[0m\u001b[0;34m,\u001b[0m \u001b[0;34m'1'\u001b[0m\u001b[0;34m,\u001b[0m \u001b[0;34m'2'\u001b[0m\u001b[0;34m,\u001b[0m \u001b[0;34m'4'\u001b[0m\u001b[0;34m]\u001b[0m\u001b[0;34m)\u001b[0m\u001b[0;34m,\u001b[0m \u001b[0mcheck_order\u001b[0m\u001b[0;34m(\u001b[0m\u001b[0;34m[\u001b[0m\u001b[0;34m'1'\u001b[0m\u001b[0;34m,\u001b[0m \u001b[0;34m'1'\u001b[0m\u001b[0;34m,\u001b[0m \u001b[0;34m'2'\u001b[0m\u001b[0;34m,\u001b[0m \u001b[0;34m'4'\u001b[0m\u001b[0;34m]\u001b[0m\u001b[0;34m,\u001b[0m \u001b[0;34m[\u001b[0m\u001b[0;34m'1'\u001b[0m\u001b[0;34m,\u001b[0m \u001b[0;34m'1'\u001b[0m\u001b[0;34m,\u001b[0m \u001b[0;34m'2'\u001b[0m\u001b[0;34m,\u001b[0m \u001b[0;34m'4'\u001b[0m\u001b[0;34m]\u001b[0m\u001b[0;34m)\u001b[0m\u001b[0;34m)\u001b[0m\u001b[0;34m\u001b[0m\u001b[0;34m\u001b[0m\u001b[0m\n\u001b[0m",
      "\u001b[0;32m<ipython-input-76-778259224b5f>\u001b[0m in \u001b[0;36mget_key_pegs\u001b[0;34m(numbers_check, order_check)\u001b[0m\n\u001b[1;32m      8\u001b[0m     \u001b[0mEmpty\u001b[0m\u001b[0;34m:\u001b[0m \u001b[0mNumber\u001b[0m \u001b[0;34m(\u001b[0m\u001b[0;32mor\u001b[0m \u001b[0mduplicate\u001b[0m \u001b[0mof\u001b[0m \u001b[0mnumber\u001b[0m\u001b[0;34m)\u001b[0m \u001b[0mdoes\u001b[0m \u001b[0;32mnot\u001b[0m \u001b[0mexist\u001b[0m \u001b[0;32min\u001b[0m \u001b[0mthe\u001b[0m \u001b[0msecret\u001b[0m \u001b[0mcode\u001b[0m\u001b[0;34m.\u001b[0m\u001b[0;34m\u001b[0m\u001b[0;34m\u001b[0m\u001b[0m\n\u001b[1;32m      9\u001b[0m     \"\"\"\n\u001b[0;32m---> 10\u001b[0;31m     \u001b[0morder_check\u001b[0m \u001b[0;34m=\u001b[0m \u001b[0mcheck_order\u001b[0m\u001b[0;34m(\u001b[0m\u001b[0mcode\u001b[0m\u001b[0;34m,\u001b[0m \u001b[0mcode_breaker_attempt\u001b[0m\u001b[0;34m)\u001b[0m\u001b[0;34m\u001b[0m\u001b[0;34m\u001b[0m\u001b[0m\n\u001b[0m\u001b[1;32m     11\u001b[0m     \u001b[0;32mif\u001b[0m \u001b[0morder_check\u001b[0m \u001b[0;34m>\u001b[0m \u001b[0;36m0\u001b[0m\u001b[0;34m:\u001b[0m\u001b[0;34m\u001b[0m\u001b[0;34m\u001b[0m\u001b[0m\n\u001b[1;32m     12\u001b[0m         \u001b[0;32mreturn\u001b[0m \u001b[0;34m'Red'\u001b[0m\u001b[0;34m\u001b[0m\u001b[0;34m\u001b[0m\u001b[0m\n",
      "\u001b[0;31mNameError\u001b[0m: name 'code' is not defined"
     ]
    }
   ],
   "source": [
    "get_key_pegs(check_numbers(['1', '1', '2', '4'], ['1', '1', '2', '4']), check_order(['1', '1', '2', '4'], ['1', '1', '2', '4']))"
   ]
  },
  {
   "cell_type": "code",
   "execution_count": 75,
   "metadata": {},
   "outputs": [],
   "source": [
    "#feedback is not the feedback that is supposed to be given (re-write)\n",
    "def give_player_feedback(key_pegs):\n",
    "    \"\"\"Lets the player know how close they are to guessing the random code\"\"\"\n",
    "    if get_key_pegs(numbers_check, order_check) == 'Red':\n",
    "        print('Number is in the right position')\n",
    "    if get_key_pegs(numbers_check, order_check) == 'White':\n",
    "        print('Number is in the wrong position')\n",
    "    if get_key_pegs(numbers_check, order_check) == 'Empty':\n",
    "        print('Number not in mastermind code')"
   ]
  },
  {
   "cell_type": "code",
   "execution_count": null,
   "metadata": {},
   "outputs": [],
   "source": [
    "give_player_feedback(get_key_pegs(check_numbers(['1', '1', '2', '4'], ['1', '1', '2', '4']), check_order(['1', '1', '2', '4'], ['1', '1', '2', '4'])))"
   ]
  },
  {
   "cell_type": "markdown",
   "metadata": {},
   "source": [
    "Integration Test 1"
   ]
  },
  {
   "cell_type": "code",
   "execution_count": 18,
   "metadata": {},
   "outputs": [],
   "source": [
    "#do this at the end with all of the subfunctions\n",
    "import unittest\n",
    "\n",
    "class TestOdd(unittest.TestCase):\n",
    "    #encapsulates first 3 functions\n",
    "    def test_get_code_breaker_attempt(self):\n",
    "        self.assertEqual(Calculator(5, 6).add(), 11)\n",
    "        self.assertEqual(Calculator(-5, 6).add(), 1)\n",
    "        self.assertEqual(Calculator(2, 2).add(), 4)\n",
    "        \n",
    "    def test_check_numbers(self):\n",
    "        self.assertEqual(check_numbers(['1', '1', '2', '4'], ['1', '1', '2', '4']), 4)\n",
    "        self.assertEqual(check_numbers(['1', '1', '2', '4'], ['2', '1', '3', '4']), 3)\n",
    "        self.assertEqual(check_numbers(['2', '1', '2', '1'], ['3', '1', '4', '1']), 2)\n",
    "        \n",
    "    def test_check_order(self):\n",
    "        self.assertEqual(Calculator(5, 6).add(), 11)\n",
    "        self.assertEqual(Calculator(-5, 6).add(), 1)\n",
    "        self.assertEqual(Calculator(2, 2).add(), 4)\n",
    "            \n",
    "    def test_get_key_pegs(self):\n",
    "        self.assertEqual(Calculator(5, 6).add(), 11)\n",
    "        self.assertEqual(Calculator(-5, 6).add(), 1)\n",
    "        self.assertEqual(Calculator(2, 2).add(), 4)\n",
    "                   \n",
    "    def test_give_player_feedback(self):\n",
    "        self.assertEqual(Calculator(5, 6).add(), 11)\n",
    "        self.assertEqual(Calculator(-5, 6).add(), 1)\n",
    "        self.assertEqual(Calculator(2, 2).add(), 4) \n",
    "        \n",
    "        \n",
    "    def select_odd(self):\n",
    "        \n",
    "        ### ALTERNATE WAY TO WRITE UNIT TESTS THAT IS NOT REPETITIVE ###\n",
    "        \n",
    "        cases = [(5, 6, -1),\n",
    "                 (-5, 6, -11),\n",
    "                 (2, 2, 0)\n",
    "                ]\n",
    "        \n",
    "        for case in cases:\n",
    "            a, b, expectedOutput = case\n",
    "            self.assertEqual(Calculator(a, b).sub(), expectedOutput)"
   ]
  },
  {
   "cell_type": "code",
   "execution_count": null,
   "metadata": {},
   "outputs": [],
   "source": []
  }
 ],
 "metadata": {
  "kernelspec": {
   "display_name": "Python 3",
   "language": "python",
   "name": "python3"
  },
  "language_info": {
   "codemirror_mode": {
    "name": "ipython",
    "version": 3
   },
   "file_extension": ".py",
   "mimetype": "text/x-python",
   "name": "python",
   "nbconvert_exporter": "python",
   "pygments_lexer": "ipython3",
   "version": "3.7.4"
  }
 },
 "nbformat": 4,
 "nbformat_minor": 2
}
